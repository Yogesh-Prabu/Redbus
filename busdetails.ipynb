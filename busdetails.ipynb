{
 "cells": [
  {
   "cell_type": "code",
   "execution_count": 19,
   "metadata": {},
   "outputs": [],
   "source": [
    "import pandas as pd\n",
    "from selenium import webdriver\n",
    "from selenium.webdriver.support.ui import WebDriverWait\n",
    "from selenium.webdriver.common.by import By\n",
    "from selenium.common.exceptions import NoSuchElementException,TimeoutException\n",
    "from selenium.webdriver.support import expected_conditions as EC\n",
    "import time"
   ]
  },
  {
   "cell_type": "code",
   "execution_count": 20,
   "metadata": {},
   "outputs": [],
   "source": [
    "df = pd.read_csv('01_bus_routes.csv')"
   ]
  },
  {
   "cell_type": "code",
   "execution_count": 21,
   "metadata": {},
   "outputs": [],
   "source": [
    "all_bus_details = []\n",
    "\n",
    "#XPATH\n",
    "xpath_bus_details = '//div[@class=\"clearfix row-one\"]'\n",
    "\n",
    "#create a chrome driver instance\n",
    "driver = webdriver.Chrome()\n",
    "\n",
    "#defines to wait until a certain operation\n",
    "wait = WebDriverWait(driver,10) #10 seconds dynamic wait\n",
    "wait_ = WebDriverWait(driver,5) "
   ]
  },
  {
   "cell_type": "code",
   "execution_count": 22,
   "metadata": {},
   "outputs": [],
   "source": [
    "#Helper function to select view_buses\n",
    "def view_buses():\n",
    "    xpath_view_buses = '//div[@class=\"button\" and text()=\"View Buses\"]'\n",
    "    \n",
    "    try:\n",
    "        object_viewbuses = wait.until(EC.presence_of_all_elements_located((By.XPATH,xpath_view_buses)))\n",
    "    except (NoSuchElementException,TimeoutException):\n",
    "        return\n",
    "    \n",
    "    if object_viewbuses:\n",
    "        for element in reversed(object_viewbuses): #reversed() to click button from bottom so, following buttons will be in sight\n",
    "                    try:\n",
    "                        time.sleep(2)\n",
    "                        element.click()\n",
    "                        time.sleep(2) # 2 sec wait to load dynamic content\n",
    "                    except Exception:\n",
    "                        continue"
   ]
  },
  {
   "cell_type": "code",
   "execution_count": 23,
   "metadata": {},
   "outputs": [],
   "source": [
    "#helper function to scroll bottom of page dynamically\n",
    "def scroll_to_bottom():\n",
    "    while True:\n",
    "        # get initial page height\n",
    "        current_page_height = driver.execute_script(\"return document.body.scrollHeight\")\n",
    "\n",
    "        #scroll to bottom of page\n",
    "        driver.execute_script(\"window.scrollTo(0,document.body.scrollHeight)\")\n",
    "        \n",
    "        # Wait for the page to load new content...if any\n",
    "        time.sleep(1)\n",
    "\n",
    "        #get new height after scrolling page\n",
    "        currentpage_new_height = driver.execute_script(\"return document.body.scrollHeight\") \n",
    "\n",
    "        if currentpage_new_height == current_page_height:\n",
    "            break\n",
    "        \n",
    "        current_page_height = currentpage_new_height\n"
   ]
  },
  {
   "cell_type": "code",
   "execution_count": 24,
   "metadata": {},
   "outputs": [],
   "source": [
    "# for each iteration it scrapes current page data\n",
    "def scrape_current_page(state, route, link, elements_data):\n",
    "    bus_details = []\n",
    "    for element in elements_data:\n",
    "        try:\n",
    "            bus_name = element.find_element(By.XPATH, './/div[@class=\"travels lh-24 f-bold d-color\"]').text\n",
    "        except NoSuchElementException:\n",
    "            bus_name = \"NA\"\n",
    "\n",
    "        try:\n",
    "            bus_type = element.find_element(By.XPATH, './/div[@class=\"bus-type f-12 m-top-16 l-color evBus\"]').text\n",
    "        except NoSuchElementException:\n",
    "            bus_type = \"NA\"\n",
    "\n",
    "        try:\n",
    "            departing_time = element.find_element(By.XPATH, './/div[@class=\"dp-time f-19 d-color f-bold\"]').text\n",
    "        except NoSuchElementException:\n",
    "            departing_time = \"NA\"\n",
    "\n",
    "        try:\n",
    "            duration = element.find_element(By.XPATH, './/div[@class=\"dur l-color lh-24\"]').text\n",
    "        except NoSuchElementException:\n",
    "            duration = \"NA\"\n",
    "\n",
    "        try:\n",
    "            reaching_time = element.find_element(By.XPATH, './/div[@class=\"bp-time f-19 d-color disp-Inline\"]').text\n",
    "        except NoSuchElementException:\n",
    "            reaching_time = \"NA\"\n",
    "\n",
    "        try:\n",
    "            price = element.find_element(By.XPATH, './/span[contains(@class, \"f-19 f-bold\") or contains(@class, \"f-bold f-19\")]').text\n",
    "        except NoSuchElementException:\n",
    "            price = \"NA\"\n",
    "\n",
    "        try:\n",
    "            star_rating = element.find_element(By.XPATH, './/div[@class=\"rating-sec lh-24\"]//span').text\n",
    "        except NoSuchElementException:\n",
    "            try:\n",
    "                element.find_element(By.XPATH, './/span[contains(@class, \"blue rating_badge\")]')\n",
    "                star_rating = '0'\n",
    "            except NoSuchElementException:\n",
    "                star_rating = '0'\n",
    "\n",
    "        try:\n",
    "            seat_available = element.find_element(By.XPATH, './/div[contains(@class, \"seat-left\") and (contains(@class, \"m-top-16\") or contains(@class, \"m-top-30\"))]').text\n",
    "        except NoSuchElementException:\n",
    "            seat_available = \"NA\"\n",
    "\n",
    "        bus_details.append([state, route, link, bus_name, bus_type, departing_time, duration, reaching_time, price, star_rating, seat_available])\n",
    "    \n",
    "    return bus_details\n"
   ]
  },
  {
   "cell_type": "code",
   "execution_count": 25,
   "metadata": {},
   "outputs": [],
   "source": [
    "def check_oops_message():\n",
    "    # check_xpath = \"//div[@class='oops-wrapper']//h3[text()='Oops! No buses found.']\"\n",
    "    check_xpath = (\n",
    "        \"//div[(contains(@class, 'oops-wrapper') and //h3[text()='Oops! No buses found.']) or \"\n",
    "        \"(@class='oops-wrapper new_oops_wrapper' and text()='Oops! No buses found.')]\"\n",
    "    )\n",
    "    try:\n",
    "        wait_.until(EC.presence_of_element_located((By.XPATH, check_xpath)))\n",
    "        return True\n",
    "    except (NoSuchElementException,TimeoutException):\n",
    "        return False"
   ]
  },
  {
   "cell_type": "code",
   "execution_count": 26,
   "metadata": {},
   "outputs": [],
   "source": [
    "\n",
    "def main_function():\n",
    "    for _,row in df.iterrows():\n",
    "        state = row['state_names']\n",
    "        route = row['routes']\n",
    "        link = row['links']\n",
    "\n",
    "        try:\n",
    "            driver.get(link)\n",
    "            \n",
    "            if check_oops_message():\n",
    "                continue\n",
    "\n",
    "            driver.maximize_window()\n",
    "            view_buses()  #click on button view_buses\n",
    "            scroll_to_bottom()  #scroll pages dynamically to bottom\n",
    "\n",
    "            elements_data = wait_.until(EC.presence_of_all_elements_located((By.XPATH,xpath_bus_details)))\n",
    "\n",
    "            if elements_data:\n",
    "                current_page_data = scrape_current_page(state, route, link, elements_data)\n",
    "                all_bus_details.extend(current_page_data)\n",
    "            else:\n",
    "                print(f\"No buses available for state: {state}, route: {route}, link: {link}\")    \n",
    "        except Exception as e:\n",
    "            print(f\"Error on line: state: {state}, route: {route}, link: {link}\")\n",
    "            print(f\"Error_details: {e}\")         \n",
    "\n",
    "    driver.quit()"
   ]
  },
  {
   "cell_type": "code",
   "execution_count": null,
   "metadata": {},
   "outputs": [],
   "source": [
    "main_function()\n",
    "final_data = pd.DataFrame(all_bus_details,columns=['state','route','link','busname','bustype','departing_time','duration','reaching_time','price','star_rating','seats_available'])\n",
    "final_data.to_csv('G:/PROJECT - REDBUS/02_big_data.csv',index=False)"
   ]
  }
 ],
 "metadata": {
  "kernelspec": {
   "display_name": "Python 3",
   "language": "python",
   "name": "python3"
  },
  "language_info": {
   "codemirror_mode": {
    "name": "ipython",
    "version": 3
   },
   "file_extension": ".py",
   "mimetype": "text/x-python",
   "name": "python",
   "nbconvert_exporter": "python",
   "pygments_lexer": "ipython3",
   "version": "3.12.4"
  }
 },
 "nbformat": 4,
 "nbformat_minor": 2
}
