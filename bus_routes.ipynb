{
 "cells": [
  {
   "cell_type": "code",
   "execution_count": 1,
   "metadata": {},
   "outputs": [],
   "source": [
    "from selenium import webdriver\n",
    "from selenium.webdriver.common.by import By\n",
    "from selenium.webdriver.support.ui import WebDriverWait\n",
    "from selenium.webdriver.support import expected_conditions as EC\n",
    "import pandas as pd\n",
    "import time\n",
    "import sys"
   ]
  },
  {
   "cell_type": "code",
   "execution_count": 2,
   "metadata": {},
   "outputs": [],
   "source": [
    "# List of state-specific Redbus links to scrape\n",
    "state_links = [\n",
    "    \"https://www.redbus.in/online-booking/apsrtc/?utm_source=rtchometile\",\n",
    "    \"https://www.redbus.in/online-booking/ksrtc-kerala/?utm_source=rtchometile\",\n",
    "    \"https://www.redbus.in/online-booking/tsrtc/?utm_source=rtchometile\",\n",
    "    \"https://www.redbus.in/online-booking/ktcl/?utm_source=rtchometile\",\n",
    "    \"https://www.redbus.in/online-booking/rsrtc/?utm_source=rtchometile\",\n",
    "    \"https://www.redbus.in/online-booking/south-bengal-state-transport-corporation-sbstc/?utm_source=rtchometile\",\n",
    "    \"https://www.redbus.in/online-booking/hrtc/?utm_source=rtchometile\",\n",
    "    \"https://www.redbus.in/online-booking/kaac-transport\",\n",
    "    \"https://www.redbus.in/online-booking/uttar-pradesh-state-road-transport-corporation-upsrtc/?utm_source=rtchometile\",\n",
    "    \"https://www.redbus.in/online-booking/wbtc-ctc/?utm_source=rtchometile\"\n",
    "]"
   ]
  },
  {
   "cell_type": "code",
   "execution_count": 3,
   "metadata": {},
   "outputs": [],
   "source": [
    "# Lists to store scraped data\n",
    "states = []\n",
    "routes = []\n",
    "links = []\n",
    "\n",
    "# XPaths for scraping\n",
    "xpath_routes = '//a[@class=\"route\"]'\n",
    "xpath_pagination_table = '//div[@class=\"DC_117_paginationTable\"]'\n",
    "xpath_statename = \"//h1[@class='D120_search_h1 D120_default' and @id='toc_id_2']\""
   ]
  },
  {
   "cell_type": "code",
   "execution_count": 4,
   "metadata": {},
   "outputs": [],
   "source": [
    "#create a chrome driver instance\n",
    "def initialize_chromedriver():\n",
    "    try:\n",
    "        driver = webdriver.Chrome()\n",
    "        return driver\n",
    "    except Exception as e:\n",
    "        print(f\"Error initializing WebDriver: {e}\")\n",
    "        sys.exit(1)"
   ]
  },
  {
   "cell_type": "code",
   "execution_count": 5,
   "metadata": {},
   "outputs": [],
   "source": [
    "def rename_state(text):\n",
    "    states_data = {\n",
    "        \"Kerala RTC Online Ticket Booking\": \"Kerala\",\n",
    "        \"APSRTC\": \"Andhra Pradesh\",\n",
    "        \"TSRTC Online Bus Ticket Booking\": \"Telangana\",\n",
    "        \"Kadamba Transport Corporation Limited (KTCL)\": \"Kadamba\",\n",
    "        \"RSRTC\": \"Rajasthan\",\n",
    "        \"South Bengal State Transport Corporation (SBSTC)\": \"South Bengal\",\n",
    "        \"HRTC\": \"Himachal\",\n",
    "        \"KAAC TRANSPORT\": \"Assam\",\n",
    "        \"UPSRTC\": \"Uttar Pradesh\",\n",
    "        \"WBTC (CTC)\": \"West Bengal\"\n",
    "    }\n",
    "    # Return the mapped value if found, else return the original text\n",
    "    return states_data.get(text,text)"
   ]
  },
  {
   "cell_type": "code",
   "execution_count": 6,
   "metadata": {},
   "outputs": [],
   "source": [
    "def scrape_data(driver,state_links):\n",
    "    wait = WebDriverWait(driver, 10)    # Define driver wait time 10seconds\n",
    "    try:\n",
    "        for link in state_links:        #iterating via all 10 state links\n",
    "            driver.get(link)\n",
    "            driver.maximize_window()\n",
    "            driver.execute_script(\"window.scrollBy(0,1500)\")  # Scroll down to 1500 pixels\n",
    "            time.sleep(1)\n",
    "\n",
    "            # Get total number of pages\n",
    "            page_elements = wait.until(EC.presence_of_all_elements_located((By.XPATH, f\"{xpath_pagination_table}/div\")))\n",
    "            total_pages = len(page_elements)\n",
    "            \n",
    "            # Get state name\n",
    "            state_name = wait.until(EC.presence_of_element_located((By.XPATH, xpath_statename)))\n",
    "            state = rename_state(state_name.text)\n",
    "\n",
    "            state_data, routes_data, links_data = [], [], []\n",
    "            for i in range(1, total_pages + 1):\n",
    "                objects = wait.until(EC.presence_of_all_elements_located((By.XPATH, xpath_routes))) \n",
    "                for obj in objects:\n",
    "                    text = obj.get_attribute('text')\n",
    "                    href = obj.get_attribute('href')\n",
    "                    routes_data.append(text)\n",
    "                    links_data.append(href)\n",
    "                    state_data.append(state)\n",
    "                if i == total_pages:\n",
    "                    break\n",
    "                next_page_xpath = f'//div[@class=\"DC_117_pageTabs \" and text()=\"{i + 1}\"]'\n",
    "                nextpage = driver.find_element(By.XPATH, next_page_xpath)\n",
    "                nextpage.click()\n",
    "                time.sleep(0.2)\n",
    "                \n",
    "            routes.extend(routes_data)                                                \n",
    "            links.extend(links_data)\n",
    "            states.extend(state_data)\n",
    "    except Exception as e:\n",
    "        print(e)\n",
    "    finally:\n",
    "        driver.quit()"
   ]
  },
  {
   "cell_type": "code",
   "execution_count": 7,
   "metadata": {},
   "outputs": [],
   "source": [
    "def export_to_csv(states,routes,links):\n",
    "    temp_path = 'G:/PROJECT - REDBUS/01_bus_routes.csv'\n",
    "    DATA = pd.DataFrame({'state_names': states, 'routes': routes, 'links': links}) #convert to dataframe\n",
    "    DATA.to_csv(temp_path, index=False) #dataframe to csv"
   ]
  },
  {
   "cell_type": "code",
   "execution_count": 8,
   "metadata": {},
   "outputs": [],
   "source": [
    "def main():\n",
    "    driver = initialize_chromedriver()\n",
    "    scrape_data(driver,state_links) #Main function for scraping state, routes, links\n",
    "    export_to_csv(states,routes,links) #export data to csv file"
   ]
  },
  {
   "cell_type": "code",
   "execution_count": 9,
   "metadata": {},
   "outputs": [],
   "source": [
    "main()"
   ]
  }
 ],
 "metadata": {
  "kernelspec": {
   "display_name": "Python 3",
   "language": "python",
   "name": "python3"
  },
  "language_info": {
   "codemirror_mode": {
    "name": "ipython",
    "version": 3
   },
   "file_extension": ".py",
   "mimetype": "text/x-python",
   "name": "python",
   "nbconvert_exporter": "python",
   "pygments_lexer": "ipython3",
   "version": "3.12.4"
  }
 },
 "nbformat": 4,
 "nbformat_minor": 2
}
